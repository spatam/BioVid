{
  "nbformat": 4,
  "nbformat_minor": 0,
  "metadata": {
    "colab": {
      "provenance": []
    },
    "kernelspec": {
      "name": "python3",
      "display_name": "Python 3"
    },
    "language_info": {
      "name": "python"
    }
  },
  "cells": [
    {
      "cell_type": "code",
      "execution_count": 2,
      "metadata": {
        "colab": {
          "base_uri": "https://localhost:8080/"
        },
        "id": "OwiOhT-wIOb4",
        "outputId": "04d61bcb-c805-4f14-b719-dd227c03bb9d"
      },
      "outputs": [
        {
          "output_type": "stream",
          "name": "stdout",
          "text": [
            "Drive already mounted at /content/gdrive; to attempt to forcibly remount, call drive.mount(\"/content/gdrive\", force_remount=True).\n",
            "Subdirectory 'AlessandroQ': 13 file\n",
            "Subdirectory 'Andrea': 13 file\n",
            "Subdirectory 'Cantarella': 13 file\n",
            "Subdirectory 'Albert': 13 file\n",
            "Subdirectory 'Alex': 26 file\n",
            "Subdirectory 'AndreaG': 26 file\n",
            "Subdirectory 'Adriano': 13 file\n",
            "Subdirectory 'Alessandra': 26 file\n",
            "Subdirectory 'AlessandroS': 13 file\n",
            "Subdirectory 'Carlo': 13 file\n",
            "Subdirectory 'Gabriele': 13 file\n",
            "Subdirectory 'FrancescoG': 13 file\n",
            "Subdirectory 'Fabio': 13 file\n",
            "Subdirectory 'Ernesto': 26 file\n",
            "Subdirectory 'Francesca': 13 file\n",
            "Subdirectory 'Cristian': 13 file\n",
            "Subdirectory 'Emilio': 26 file\n",
            "Subdirectory 'GabrieleG': 13 file\n",
            "Subdirectory 'Edoardo': 13 file\n",
            "Subdirectory 'Davide': 13 file\n",
            "Subdirectory 'LorenzoC': 13 file\n",
            "Subdirectory 'MatteoM': 13 file\n",
            "Subdirectory 'Iris': 26 file\n",
            "Subdirectory 'Luca': 13 file\n",
            "Subdirectory 'Lorenzo': 13 file\n",
            "Subdirectory 'Mattia': 13 file\n",
            "Subdirectory 'Mansueto': 13 file\n",
            "Subdirectory 'GiuseppeV': 13 file\n",
            "Subdirectory 'MattiaC': 13 file\n",
            "Subdirectory 'Jacopo': 13 file\n",
            "Subdirectory 'Siria': 13 file\n",
            "Subdirectory 'SimoneM': 13 file\n",
            "Subdirectory 'Solenne': 13 file\n",
            "Subdirectory 'Sophia': 13 file\n",
            "Subdirectory 'Sabrina': 13 file\n",
            "Subdirectory 'SiriaI': 13 file\n",
            "Subdirectory 'Paolo': 13 file\n",
            "Subdirectory 'SimoneO': 13 file\n",
            "Subdirectory 'Rachele': 26 file\n",
            "Subdirectory 'Simone': 13 file\n",
            "Subdirectory 'Vincenzo': 13 file\n",
            "Subdirectory 'StefanoM': 13 file\n",
            "Subdirectory 'Stefano': 13 file\n",
            "Total number of files: 650\n"
          ]
        }
      ],
      "source": [
        "import os\n",
        "\n",
        "from google.colab import drive\n",
        "drive.mount('/content/gdrive')\n",
        "\n",
        "def count_files_in_subfolders(dataset_path):\n",
        "    total_files = 0\n",
        "\n",
        "    # Iterate over each item in the dataset folder\n",
        "    for subfolder in os.listdir(dataset_path):\n",
        "        subfolder_path = os.path.join(dataset_path, subfolder)\n",
        "\n",
        "        # Check if the item is a directory\n",
        "        if os.path.isdir(subfolder_path):\n",
        "            # Count the number of files in the current subfolder\n",
        "            file_count = sum(len(files) for _, _, files in os.walk(subfolder_path))\n",
        "            total_files += file_count\n",
        "            print(f\"Subdirectory '{subfolder}': {file_count} file\")\n",
        "\n",
        "    print(f\"Total number of files: {total_files}\")\n",
        "\n",
        "dataset_path = '/content/gdrive/My Drive/Colab Notebooks/cropped_lips'  # Sostituisci con il percorso corretto\n",
        "count_files_in_subfolders(dataset_path)"
      ]
    }
  ]
}